{
 "cells": [
  {
   "cell_type": "code",
   "execution_count": 1,
   "id": "bb29965e",
   "metadata": {},
   "outputs": [],
   "source": [
    "%matplotlib ipympl\n",
    "import numpy as np\n",
    "import matplotlib.pyplot as plt\n",
    "import pandas as pd\n",
    "import os\n",
    "from scipy.optimize import curve_fit as fit"
   ]
  },
  {
   "cell_type": "code",
   "execution_count": 2,
   "id": "395ee0f6",
   "metadata": {},
   "outputs": [],
   "source": [
    "t = -0.5\n",
    "delta = 1.0\n",
    "alpha = [0.5,1.0]\n",
    "L = [14]\n",
    "mode = 's'\n",
    "taus_all = np.logspace(-1,4,300)\n",
    "\n",
    "max_tau_idx = np.sum(np.where(taus_all<5,1,0))\n",
    "taus = taus_all[1:max_tau_idx]\n",
    "inv_L = [1/i for i in L]"
   ]
  },
  {
   "cell_type": "code",
   "execution_count": 3,
   "id": "3891cd01",
   "metadata": {},
   "outputs": [],
   "source": [
    "def import_eigval(full_path) -> np.ndarray:\n",
    "    with open(full_path, 'r') as f:\n",
    "        # print(\"Opened\")\n",
    "        flag = False\n",
    "        data = []\n",
    "        for line in f:\n",
    "            if line.startswith('#Correlation matrix eigenvalues'):\n",
    "                flag = True\n",
    "                continue\n",
    "            if flag == False:\n",
    "                continue\n",
    "            if line.startswith('#Eigenvector') or line.startswith('#5 eigenvectors'):\n",
    "                return np.array(data, dtype=np.float64)\n",
    "            try:\n",
    "                data.append(float(line))\n",
    "            except:\n",
    "                continue\n",
    "    return np.ones(1)*-1\n",
    "\n",
    "def fun(x,gamma): \n",
    "    # x = 1/(tau*alpha^2)\n",
    "    return 2/np.pi * np.arctan(x/gamma)"
   ]
  },
  {
   "cell_type": "code",
   "execution_count": 4,
   "id": "852b11bd",
   "metadata": {},
   "outputs": [
    {
     "name": "stdout",
     "output_type": "stream",
     "text": [
      "integrable lambda for L = 14:  1.00000000000002\n"
     ]
    }
   ],
   "source": [
    "\n",
    "eigval_int = np.zeros(len(L))\n",
    "for i,l in enumerate(L):\n",
    "    int_path = 'L_' + str(l) + '_m_3_t_' + '{:.1f}'.format(t) + '_delta_' + '{:.1f}'.format(delta) + '_alpha_0.00.dat'\n",
    "    if mode == 'ec':\n",
    "        int_path = 'data/preprocessed/' + 'energy_current_' + int_path\n",
    "    elif mode == 's':\n",
    "        int_path = 'data/preprocessed/' + 'spin_' + int_path\n",
    "    eigval_int[i] = import_eigval(os.path.abspath(int_path))[-1]\n",
    "    \n",
    "if len(L) > 1:\n",
    "    fit_int = np.polyfit(inv_L,eigval_int,1)\n",
    "    eigval_int = fit_int[-1]\n",
    "    if eigval_int > 1.0: eigval_int = 1.0\n",
    "    if eigval_int < 0.0: eigval_int = 0.0\n",
    "    print(\"Extrapolated integrable lambda = \",eigval_int)\n",
    "else:\n",
    "    eigval_int = eigval_int[0]\n",
    "    print('integrable lambda for L = '+str(L[0])+': ',eigval_int)\n",
    "    "
   ]
  },
  {
   "cell_type": "code",
   "execution_count": 5,
   "id": "13dc1e76",
   "metadata": {},
   "outputs": [],
   "source": [
    "\n",
    "data_fs = np.empty((len(L),len(alpha)),dtype=np.ndarray)\n",
    "data_ft = np.empty((len(L),len(alpha)),dtype=np.ndarray)\n",
    "for i,l in enumerate(L):\n",
    "    for j,a in enumerate(alpha):\n",
    "        fixed_spacing_name = 'data/preprocessed/' + mode + '_fixed_mat_el_spacing_L_' + str(l) + '_d_' + '{:.1f}'.format(delta) + \\\n",
    "        '_a_' + '{:.2f}'.format(a) + '.csv'\n",
    "        fixed_tau_name = 'data/preprocessed/' + mode + '_fixed_tau_L_' + str(l) + '_d_' + '{:.1f}'.format(delta) + \\\n",
    "        '_a_' + '{:.2f}'.format(a) + '.csv'\n",
    "        data_fs[i,j] = pd.read_csv(os.path.abspath(fixed_spacing_name)).to_numpy()\n",
    "        data_ft[i,j] = pd.read_csv(os.path.abspath(fixed_tau_name)).to_numpy()"
   ]
  },
  {
   "cell_type": "code",
   "execution_count": 6,
   "id": "9347c5b0",
   "metadata": {},
   "outputs": [],
   "source": [
    "\n",
    "eigval_noint = np.zeros((len(alpha),len(taus)))\n",
    "if(len(L) > 1):\n",
    "    for k in range(len(alpha)):\n",
    "        eigval_L_tau = np.zeros((len(L),len(taus)))\n",
    "        for i,l in enumerate(L):\n",
    "            for j,tau in enumerate(taus):\n",
    "                eigval_L_tau[i,j] = data_ft[i,k][j,1]\n",
    "            \n",
    "        for j in range(len(taus)):\n",
    "            fit_noint = np.polyfit(inv_L,eigval_L_tau[:,j],1)\n",
    "            eigval_noint[k,j] = fit_noint[-1]\n",
    "            # print(eigval_noint[k,j])\n",
    "            if eigval_noint[k,j] > 1.0 : eigval_noint[k,j] = 1.0\n",
    "            if eigval_noint[k,j] < 0.0 : eigval_noint[k,j] = 0.0\n",
    "else:\n",
    "    for k in range(len(alpha)):\n",
    "        for j,tau in enumerate(taus):\n",
    "            eigval_noint[k,j] = data_ft[0,k][j,1]\n",
    "            # print(eigval_noint[k,j])\n",
    "            "
   ]
  },
  {
   "cell_type": "code",
   "execution_count": 7,
   "id": "e1b794ca",
   "metadata": {},
   "outputs": [],
   "source": [
    "R1 = np.zeros((len(alpha),len(taus)))\n",
    "for i in range(len(alpha)):\n",
    "    for j in range(len(taus)):\n",
    "        R1[i,j] = eigval_noint[i,j]/eigval_int"
   ]
  },
  {
   "cell_type": "code",
   "execution_count": 8,
   "id": "115f3e5e",
   "metadata": {},
   "outputs": [
    {
     "data": {
      "application/vnd.jupyter.widget-view+json": {
       "model_id": "1e321abe9f5d40709564b10b04078dff",
       "version_major": 2,
       "version_minor": 0
      },
      "text/plain": [
       "Canvas(toolbar=Toolbar(toolitems=[('Home', 'Reset original view', 'home', 'home'), ('Back', 'Back to previous …"
      ]
     },
     "metadata": {},
     "output_type": "display_data"
    }
   ],
   "source": [
    "x = np.zeros((len(alpha),len(taus)))\n",
    "scaling_factor = 1\n",
    "for i,a in enumerate(alpha):\n",
    "    x[i,:] = 1/(taus*(a**scaling_factor))\n",
    "\n",
    "for i,a in enumerate(alpha):        \n",
    "    popt = fit(fun,x[i,:],R1[i,:])[0]\n",
    "    label = r'$\\alpha = ' + r'{:.2f}'.format(a) + r'$, ' + r'$\\gamma = ' +r'{:.3f}'.format(popt[0])+ '$'\n",
    "    p = plt.plot(x[i,:],R1[i,:],'x:',markersize=5,label=label)\n",
    "    xx = np.linspace(x[i,0],x[i,-1],100)\n",
    "    y = fun(xx,*popt)\n",
    "    plt.plot(xx,y,'-',color=p[-1].get_color(),linewidth=1.0)\n",
    "plt.xlabel(r'$\\frac{1}{\\tau \\alpha^2}$',fontsize=16)\n",
    "plt.ylabel(r'$R_1$',fontsize=16)\n",
    "plt.legend(loc='best',fontsize=12)\n",
    "plt.ylim([0.0,1.05])\n",
    "plt.tight_layout()\n",
    "plt.show()"
   ]
  },
  {
   "cell_type": "code",
   "execution_count": null,
   "id": "cd184bd9",
   "metadata": {},
   "outputs": [],
   "source": []
  },
  {
   "cell_type": "code",
   "execution_count": null,
   "id": "0345d368",
   "metadata": {},
   "outputs": [],
   "source": []
  },
  {
   "cell_type": "code",
   "execution_count": null,
   "id": "809c6a1f-d6b8-488c-b6ed-3a2ab0847969",
   "metadata": {},
   "outputs": [],
   "source": []
  }
 ],
 "metadata": {
  "interpreter": {
   "hash": "36eb220aa53adce0fb0ef3b9220a82b81bc56a8e3b94a5ba7380f61b29ca7f3b"
  },
  "kernelspec": {
   "display_name": "Python 3 (ipykernel)",
   "language": "python",
   "name": "python3"
  },
  "language_info": {
   "codemirror_mode": {
    "name": "ipython",
    "version": 3
   },
   "file_extension": ".py",
   "mimetype": "text/x-python",
   "name": "python",
   "nbconvert_exporter": "python",
   "pygments_lexer": "ipython3",
   "version": "3.9.6"
  }
 },
 "nbformat": 4,
 "nbformat_minor": 5
}
